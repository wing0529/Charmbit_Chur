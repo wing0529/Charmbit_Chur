{
 "cells": [
  {
   "cell_type": "markdown",
   "id": "80516425",
   "metadata": {},
   "source": [
    "### 1. 폴더에서 사진고르고 색 추출 후 표에 저장"
   ]
  },
  {
   "cell_type": "code",
   "execution_count": 142,
   "id": "af022935",
   "metadata": {
    "scrolled": true
   },
   "outputs": [
    {
     "name": "stdout",
     "output_type": "stream",
     "text": [
      "name:fixed_pH_4.0_1_1, judge:error, pH:4.0 - R:117, G:119, B:79\n",
      "name:fixed_pH_4.0_1_10, judge:error, pH:4.0 - R:113, G:121, B:82\n",
      "name:fixed_pH_4.0_1_2, judge:error, pH:4.0 - R:110, G:112, B:75\n",
      "name:fixed_pH_4.0_1_3, judge:error, pH:4.0 - R:108, G:114, B:78\n",
      "name:fixed_pH_4.0_1_4, judge:error, pH:4.0 - R:112, G:121, B:90\n",
      "name:fixed_pH_4.0_1_5, judge:error, pH:4.0 - R:110, G:116, B:82\n",
      "name:fixed_pH_4.0_1_6, judge:error, pH:4.0 - R:109, G:110, B:70\n",
      "name:fixed_pH_4.0_1_7, judge:error, pH:4.0 - R:115, G:116, B:74\n",
      "name:fixed_pH_4.0_1_8, judge:error, pH:4.0 - R:112, G:118, B:82\n",
      "name:fixed_pH_4.0_1_9, judge:error, pH:4.0 - R:114, G:120, B:76\n",
      "name:fixed_pH_4.0_2_1, judge:error, pH:4.0 - R:107, G:113, B:77\n",
      "name:fixed_pH_4.0_2_10, judge:error, pH:4.0 - R:109, G:114, B:74\n",
      "name:fixed_pH_4.0_2_2, judge:error, pH:4.0 - R:112, G:117, B:77\n",
      "name:fixed_pH_4.0_2_3, judge:error, pH:4.0 - R:112, G:118, B:84\n",
      "name:fixed_pH_4.0_2_4, judge:error, pH:4.0 - R:109, G:116, B:83\n",
      "name:fixed_pH_4.0_2_5, judge:error, pH:4.0 - R:115, G:117, B:80\n",
      "name:fixed_pH_4.0_2_6, judge:error, pH:4.0 - R:111, G:118, B:84\n",
      "name:fixed_pH_4.0_2_7, judge:error, pH:4.0 - R:106, G:115, B:84\n",
      "name:fixed_pH_4.0_2_8, judge:error, pH:4.0 - R:112, G:116, B:83\n",
      "name:fixed_pH_4.0_2_9, judge:error, pH:4.0 - R:106, G:111, B:70\n",
      "DataFrame이 output_data.csv로 저장되었습니다.\n"
     ]
    }
   ],
   "source": [
    "import os\n",
    "from PIL import Image\n",
    "import matplotlib.pyplot as plt\n",
    "import numpy as np\n",
    "import pandas as pd\n",
    "\n",
    "def extract_central_rgb(image_path):\n",
    "    image = Image.open(image_path)\n",
    "    width, height = image.size\n",
    "    central_pixel = image.getpixel((width // 2, height // 2))\n",
    "    return central_pixel\n",
    "\n",
    "def load_images_from_folder(folder_path,keyword):\n",
    "    image_paths = []\n",
    "    for filename in os.listdir(folder_path):\n",
    "        if filename.endswith('.jpg') and filename.startswith(keyword):\n",
    "            image_paths.append(os.path.join(folder_path, filename))\n",
    "    return image_paths\n",
    "\n",
    "keyword ='fixed'\n",
    "pH = 4.0\n",
    "folder_path = f\"C:/Users/USER/Desktop/pH/fixed/{pH}\"\n",
    "image_paths = load_images_from_folder(folder_path,keyword)\n",
    "\n",
    "data = []\n",
    "\n",
    "for image_path in image_paths:\n",
    "    judge_value = 'error'\n",
    "    # 이미지 파일 제목에서 pH 추출\n",
    "    name = os.path.splitext(os.path.basename(image_path))[0]\n",
    "    pH_value = os.path.splitext(os.path.basename(image_path))[0].split('_')[2]\n",
    "    if(4.8<=float(pH_value)<=5.6):\n",
    "        judge_value = 'danger'\n",
    "    elif (5.7<=float(pH_value)<=6.0):\n",
    "        judge_value = 'warning'\n",
    "    elif (6.1<=float(pH_value)<=6.4):\n",
    "        judge_value = 'safe'\n",
    "        \n",
    "    # 중앙 부분의 RGB 값을 추출\n",
    "    rgb = extract_central_rgb(image_path)\n",
    "    \n",
    "    # 튜플로 데이터 생성\n",
    "    image_data = (judge_value, pH_value, rgb[0], rgb[1], rgb[2], name)\n",
    "    \n",
    "    # 데이터 추가\n",
    "    data.append(image_data)\n",
    "\n",
    "# Extracting data for plotting\n",
    "judge_values = [item[0] for item in data]\n",
    "pH_values = [item[1] for item in data]\n",
    "R_values = [item[2] for item in data]\n",
    "G_values = [item[3] for item in data]\n",
    "B_values = [item[4] for item in data]\n",
    "name = [item[5] for item in data]\n",
    "\n",
    "for item in data:\n",
    "    print(f\"name:{item[5]}, judge:{item[0]}, pH:{item[1]} - R:{item[2]}, G:{item[3]}, B:{item[4]}\")\n",
    "    \n",
    "#data dataframe로 저장    \n",
    "df = pd.DataFrame(data, columns=['judge','pH', 'R', 'G', 'B','Name'])\n",
    "\n",
    "# DataFrame을 Excel 파일로 저장\n",
    "excel_filename = 'output_data.csv'\n",
    "df.to_csv(excel_filename, index=False)\n",
    "print(f\"DataFrame이 {excel_filename}로 저장되었습니다.\")"
   ]
  },
  {
   "cell_type": "code",
   "execution_count": 143,
   "id": "6cbf7b57",
   "metadata": {
    "scrolled": true
   },
   "outputs": [
    {
     "data": {
      "image/png": "[encoded data removed]",
      "text/plain": [
       "<Figure size 500x500 with 1 Axes>"
      ]
     },
     "metadata": {},
     "output_type": "display_data"
    }
   ],
   "source": [
    "# 1. 기본 스타일 설정\n",
    "plt.style.use('default')\n",
    "plt.rcParams['figure.figsize'] = (5, 5)\n",
    "plt.rcParams['font.size'] = 10\n",
    "\n",
    "# 3. 그래프 그리기\n",
    "fig, ax = plt.subplots()\n",
    "violin = ax.violinplot(df[['R', 'G', 'B']], showmeans=True)\n",
    "ax.set_ylim(30, 150)\n",
    "ax.set_xticks(np.arange(1, 4))\n",
    "ax.set_xticklabels(['R', 'G', 'B'])\n",
    "ax.set_xlabel(f'pH : {pH}')\n",
    "ax.set_ylabel('Color')\n",
    "ax.set_yticks(np.arange(0, 256, 10))\n",
    "ax.grid(True)\n",
    "\n",
    "violin['bodies'][0].set_facecolor('red')\n",
    "violin['bodies'][1].set_facecolor('green')\n",
    "violin['bodies'][2].set_facecolor('blue')\n",
    "\n",
    "violin['cbars'].set_edgecolor('gray')#전체 범위\n",
    "violin['cmaxes'].set_edgecolor('gray')#max\n",
    "violin['cmins'].set_edgecolor('gray')#min\n",
    "violin['cmeans'].set_edgecolor('gray')#평균\n",
    "    \n",
    "output_filename = f\"{pH}violin_plot.png\"\n",
    "output_filepath = os.path.join(folder_path, output_filename)\n",
    "plt.savefig(output_filepath)\n",
    "plt.show()\n"
   ]
  },
  {
   "cell_type": "code",
   "execution_count": null,
   "id": "0455c8fb",
   "metadata": {},
   "outputs": [],
   "source": []
  }
 ],
 "metadata": {
  "kernelspec": {
   "display_name": "Python 3 (ipykernel)",
   "language": "python",
   "name": "python3"
  },
  "language_info": {
   "codemirror_mode": {
    "name": "ipython",
    "version": 3
   },
   "file_extension": ".py",
   "mimetype": "text/x-python",
   "name": "python",
   "nbconvert_exporter": "python",
   "pygments_lexer": "ipython3",
   "version": "3.9.18"
  }
 },
 "nbformat": 4,
 "nbformat_minor": 5
}
